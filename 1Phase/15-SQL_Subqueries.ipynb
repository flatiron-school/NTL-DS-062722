{
 "cells": [
  {
   "cell_type": "markdown",
   "metadata": {
    "toc": true
   },
   "source": [
    "<h1>Table of Contents<span class=\"tocSkip\"></span></h1>\n",
    "<div class=\"toc\"><ul class=\"toc-item\"><li><span><a href=\"#Objectives\" data-toc-modified-id=\"Objectives-1\"><span class=\"toc-item-num\">1&nbsp;&nbsp;</span>Objectives</a></span></li><li><span><a href=\"#SQL-Subqueries\" data-toc-modified-id=\"SQL-Subqueries-2\"><span class=\"toc-item-num\">2&nbsp;&nbsp;</span>SQL Subqueries</a></span><ul class=\"toc-item\"><li><span><a href=\"#Subqueries-in-FROM\" data-toc-modified-id=\"Subqueries-in-FROM-2.1\"><span class=\"toc-item-num\">2.1&nbsp;&nbsp;</span>Subqueries in <code>FROM</code></a></span></li><li><span><a href=\"#Note:-Subqueries-are-Like-New-Tables!\" data-toc-modified-id=\"Note:-Subqueries-are-Like-New-Tables!-2.2\"><span class=\"toc-item-num\">2.2&nbsp;&nbsp;</span>Note: Subqueries are Like New Tables!</a></span></li><li><span><a href=\"#Subqueries-in-WHERE\" data-toc-modified-id=\"Subqueries-in-WHERE-2.3\"><span class=\"toc-item-num\">2.3&nbsp;&nbsp;</span>Subqueries in <code>WHERE</code></a></span></li><li><span><a href=\"#Level-Up:-Common-Table-Expressions\" data-toc-modified-id=\"Level-Up:-Common-Table-Expressions-2.4\"><span class=\"toc-item-num\">2.4&nbsp;&nbsp;</span>Level Up: Common Table Expressions</a></span><ul class=\"toc-item\"><li><span><a href=\"#Exercise\" data-toc-modified-id=\"Exercise-2.4.1\"><span class=\"toc-item-num\">2.4.1&nbsp;&nbsp;</span>Exercise</a></span></li></ul></li></ul></li><li><span><a href=\"#SQL-Versions\" data-toc-modified-id=\"SQL-Versions-3\"><span class=\"toc-item-num\">3&nbsp;&nbsp;</span>SQL Versions</a></span><ul class=\"toc-item\"><li><span><a href=\"#SQL-Dialects\" data-toc-modified-id=\"SQL-Dialects-3.1\"><span class=\"toc-item-num\">3.1&nbsp;&nbsp;</span>SQL Dialects</a></span></li><li><span><a href=\"#SQLite-Pros-&amp;-Cons\" data-toc-modified-id=\"SQLite-Pros-&amp;-Cons-3.2\"><span class=\"toc-item-num\">3.2&nbsp;&nbsp;</span>SQLite Pros &amp; Cons</a></span><ul class=\"toc-item\"><li><span><a href=\"#Pros\" data-toc-modified-id=\"Pros-3.2.1\"><span class=\"toc-item-num\">3.2.1&nbsp;&nbsp;</span>Pros</a></span></li><li><span><a href=\"#Cons\" data-toc-modified-id=\"Cons-3.2.2\"><span class=\"toc-item-num\">3.2.2&nbsp;&nbsp;</span>Cons</a></span></li></ul></li><li><span><a href=\"#Extra-Resources:-SQL-Versions\" data-toc-modified-id=\"Extra-Resources:-SQL-Versions-3.3\"><span class=\"toc-item-num\">3.3&nbsp;&nbsp;</span>Extra Resources: SQL Versions</a></span></li></ul></li><li><span><a href=\"#Web-Databases:-data.world\" data-toc-modified-id=\"Web-Databases:-data.world-4\"><span class=\"toc-item-num\">4&nbsp;&nbsp;</span>Web Databases: data.world</a></span><ul class=\"toc-item\"><li><span><a href=\"#Step-1:-Create-a-data.world-account\" data-toc-modified-id=\"Step-1:-Create-a-data.world-account-4.1\"><span class=\"toc-item-num\">4.1&nbsp;&nbsp;</span>Step 1: Create a data.world account</a></span></li><li><span><a href=\"#Step-2:-Create-a-project-using-this-Austin-AirBnB-dataset\" data-toc-modified-id=\"Step-2:-Create-a-project-using-this-Austin-AirBnB-dataset-4.2\"><span class=\"toc-item-num\">4.2&nbsp;&nbsp;</span>Step 2: Create a project using this <a href=\"https://data.world/jonloyens/inside-airbnb-austin\" target=\"_blank\">Austin AirBnB</a> dataset</a></span></li><li><span><a href=\"#Step-3:-Create-a-SQL-query\" data-toc-modified-id=\"Step-3:-Create-a-SQL-query-4.3\"><span class=\"toc-item-num\">4.3&nbsp;&nbsp;</span>Step 3: Create a SQL query</a></span></li><li><span><a href=\"#Step-4:-Run-a-simple-SQL-query\" data-toc-modified-id=\"Step-4:-Run-a-simple-SQL-query-4.4\"><span class=\"toc-item-num\">4.4&nbsp;&nbsp;</span>Step 4: Run a simple SQL query</a></span></li><li><span><a href=\"#Step-5:-Practice-using-SQL-to-explore-the-data\" data-toc-modified-id=\"Step-5:-Practice-using-SQL-to-explore-the-data-4.5\"><span class=\"toc-item-num\">4.5&nbsp;&nbsp;</span>Step 5: Practice using SQL to explore the data</a></span><ul class=\"toc-item\"><li><span><a href=\"#Exercise-1:-Create-a-table-showing-the-number-of-listings-in-each-neighborhood\" data-toc-modified-id=\"Exercise-1:-Create-a-table-showing-the-number-of-listings-in-each-neighborhood-4.5.1\"><span class=\"toc-item-num\">4.5.1&nbsp;&nbsp;</span>Exercise 1: Create a table showing the number of listings in each neighborhood</a></span></li><li><span><a href=\"#Exercise-2:-Create-a-table-showing-the-20-listings-with-the-most-reviews\" data-toc-modified-id=\"Exercise-2:-Create-a-table-showing-the-20-listings-with-the-most-reviews-4.5.2\"><span class=\"toc-item-num\">4.5.2&nbsp;&nbsp;</span>Exercise 2: Create a table showing the 20 listings with the most reviews</a></span></li><li><span><a href=\"#Exercise-3:-Create-a-table-showing-all-of-the-reviews-for-listings-that-are-&quot;Bed-&amp;-Breakfast&quot;-property-types.\" data-toc-modified-id=\"Exercise-3:-Create-a-table-showing-all-of-the-reviews-for-listings-that-are-&quot;Bed-&amp;-Breakfast&quot;-property-types.-4.5.3\"><span class=\"toc-item-num\">4.5.3&nbsp;&nbsp;</span>Exercise 3: Create a table showing all of the reviews for listings that are \"Bed &amp; Breakfast\" property types.</a></span></li><li><span><a href=\"#Exercise-4:-Run-your-own-query-using-a-subquery-or-CTE.\" data-toc-modified-id=\"Exercise-4:-Run-your-own-query-using-a-subquery-or-CTE.-4.5.4\"><span class=\"toc-item-num\">4.5.4&nbsp;&nbsp;</span>Exercise 4: Run your own query using a subquery or CTE.</a></span></li></ul></li></ul></li></ul></div>"
   ]
  },
  {
   "cell_type": "code",
   "execution_count": null,
   "metadata": {},
   "outputs": [],
   "source": [
    "# Imports\n"
   ]
  },
  {
   "cell_type": "markdown",
   "metadata": {
    "slideshow": {
     "slide_type": "slide"
    }
   },
   "source": [
    "# Objectives"
   ]
  },
  {
   "cell_type": "markdown",
   "metadata": {
    "slideshow": {
     "slide_type": "slide"
    }
   },
   "source": [
    "- Use SQL subqueries to nest queries\n",
    "- Identify common SQL dialects and tools\n",
    "- Query data from web databases"
   ]
  },
  {
   "cell_type": "markdown",
   "metadata": {},
   "source": [
    "# SQL Subqueries"
   ]
  },
  {
   "cell_type": "markdown",
   "metadata": {},
   "source": [
    "Like you might nest one function within another in Python, you can nest queries in SQL. We can use a **subquery** within another query to succinctly implement queries that have multiple query steps."
   ]
  },
  {
   "cell_type": "code",
   "execution_count": null,
   "metadata": {},
   "outputs": [],
   "source": [
    "# Create the connect to the flights.db database\n"
   ]
  },
  {
   "cell_type": "markdown",
   "metadata": {},
   "source": [
    "## Subqueries in `FROM`"
   ]
  },
  {
   "cell_type": "markdown",
   "metadata": {},
   "source": [
    "You can use a subquery in the `FROM` clause - this is useful, for example, if you want to apply multiple aggregation functions.\n",
    "\n",
    "Let say we want to get the average of the number of routes departing from all airports. First we'd need to get the total number of routes departing from all airports, then take the average."
   ]
  },
  {
   "cell_type": "code",
   "execution_count": null,
   "metadata": {
    "scrolled": false
   },
   "outputs": [],
   "source": [
    "# Get the number of departures\n"
   ]
  },
  {
   "cell_type": "markdown",
   "metadata": {},
   "source": [
    "We can use this query as a subquery, and take the average of the new `number_of_departures` column."
   ]
  },
  {
   "cell_type": "code",
   "execution_count": null,
   "metadata": {
    "scrolled": true
   },
   "outputs": [],
   "source": [
    "# Get the average via a subquery\n"
   ]
  },
  {
   "cell_type": "markdown",
   "metadata": {},
   "source": [
    "## Note: Subqueries are Like New Tables!"
   ]
  },
  {
   "cell_type": "markdown",
   "metadata": {},
   "source": [
    "If you squint, you'll notice that the subquery is taking the place of where we might put a table!"
   ]
  },
  {
   "cell_type": "markdown",
   "metadata": {},
   "source": [
    "For example, checkout the SQL we wrote in our first subquery example:\n",
    "\n",
    "```sql\n",
    "SELECT \n",
    "    AVG(number_of_departures)\n",
    "FROM (\n",
    "    SELECT \n",
    "        source AS depart_airport\n",
    "        ,COUNT() AS number_of_departures\n",
    "    FROM\n",
    "        routes\n",
    "    GROUP BY\n",
    "        source\n",
    ")\n",
    "```"
   ]
  },
  {
   "cell_type": "markdown",
   "metadata": {},
   "source": [
    "We could imagine that some new table that returned by the subquery existed (let's call it `airport_departures`) and be placed in place of the subquery:\n",
    "\n",
    "```sql\n",
    "SELECT \n",
    "    AVG(number_of_departures)\n",
    "FROM (\n",
    "    airport_departures -- Replacing subquery with this hypothetical table\n",
    ") \n",
    "```"
   ]
  },
  {
   "cell_type": "markdown",
   "metadata": {},
   "source": [
    "You can actually use syntax close to this with **Common Table Expressions (CTEs)** found in the [Level Up section](#Level-Up:-Common-Table-Expressions) below."
   ]
  },
  {
   "cell_type": "markdown",
   "metadata": {},
   "source": [
    "## Subqueries in `WHERE`"
   ]
  },
  {
   "cell_type": "markdown",
   "metadata": {},
   "source": [
    "You can use a subquery in the `WHERE` clause - this is useful, for example, if you want to filter a query based on results from another query.\n",
    "\n",
    "Let's say that we want to get a table with all of the departures and destinations for the flight routes, but I only want to include flights departing from the five countries with the most airports.\n",
    "\n",
    "To do this, we'd first need to identify the five countries that have the most airports. "
   ]
  },
  {
   "cell_type": "code",
   "execution_count": null,
   "metadata": {},
   "outputs": [],
   "source": [
    "# get top 5 countries\n"
   ]
  },
  {
   "cell_type": "markdown",
   "metadata": {},
   "source": [
    "I could enter these results into a new query of the routes table to get the data I want."
   ]
  },
  {
   "cell_type": "code",
   "execution_count": null,
   "metadata": {},
   "outputs": [],
   "source": [
    "pd.read_sql('''\n",
    "SELECT \n",
    "    rt.source AS depart_airport,\n",
    "    rt.dest AS destination_airport,\n",
    "    ap.country AS depart_country\n",
    "FROM\n",
    "    routes AS rt\n",
    "    LEFT JOIN airports AS ap\n",
    "        ON rt.source_id = ap.id\n",
    "WHERE \n",
    "    ap.country IN (\n",
    "        \"United States\", \n",
    "        \"Canada\", \n",
    "        \"Germany\", \n",
    "        \"Australia\", \n",
    "        \"Russia\"\n",
    "    )\n",
    "ORDER BY \n",
    "    depart_country\n",
    "''', conn)"
   ]
  },
  {
   "cell_type": "markdown",
   "metadata": {},
   "source": [
    "This approach works but has a few limitations:\n",
    "\n",
    "- We have to manually enter the countries to filter them\n",
    "- The list of countries won't update with our data, so we'd have to monitor and manually change them in the future\n",
    "- We have to look at two separate queries to understand what our code is supposed to do\n",
    "- We have to run two separate queries, which might take longer than one combined query\n",
    "\n",
    "A better solution uses a subquery to get the list of 5 countries and feed it into our WHERE clause."
   ]
  },
  {
   "cell_type": "code",
   "execution_count": null,
   "metadata": {},
   "outputs": [],
   "source": [
    "# Do it with a subquery!\n"
   ]
  },
  {
   "cell_type": "markdown",
   "metadata": {},
   "source": [
    "\n",
    "## Level Up: Common Table Expressions"
   ]
  },
  {
   "cell_type": "markdown",
   "metadata": {},
   "source": [
    "Common Table Expressions (CTEs) are a more readable way to implement subqueries, using `WITH` and `AS`."
   ]
  },
  {
   "cell_type": "code",
   "execution_count": null,
   "metadata": {},
   "outputs": [],
   "source": [
    "# Create a CTE"
   ]
  },
  {
   "cell_type": "markdown",
   "metadata": {},
   "source": [
    "### Exercise"
   ]
  },
  {
   "cell_type": "markdown",
   "metadata": {},
   "source": [
    "Create a table listing all airlines that serve the three airports with the most outbound routes."
   ]
  },
  {
   "cell_type": "code",
   "execution_count": null,
   "metadata": {},
   "outputs": [],
   "source": [
    "## Your work here\n"
   ]
  },
  {
   "cell_type": "markdown",
   "metadata": {},
   "source": [
    "# SQL Versions"
   ]
  },
  {
   "cell_type": "markdown",
   "metadata": {},
   "source": [
    "There is no one version of SQL - there are many versions out there! What you're learning about SQL with SQLite will apply to all of them. Just keep in mind when you apply for jobs that you may see any of these listed in any given job posting, and they are all just different versions of what you know."
   ]
  },
  {
   "cell_type": "markdown",
   "metadata": {},
   "source": [
    "## SQL Dialects"
   ]
  },
  {
   "cell_type": "markdown",
   "metadata": {},
   "source": [
    "As with dialects of spoken languages, SQL dialects have many commonalities but some differences in syntax and functionality.  Here are a few of the major players:\n",
    "\n",
    "- SQLite (we've already seen this!)\n",
    "- PostgreSQL (free and open-source!)\n",
    "- Oracle SQL\n",
    "- MySQL (half open-souce, half Oracle)\n",
    "- Microsoft SQL Server\n",
    "- Transact-SQL (extends MS SQL)"
   ]
  },
  {
   "cell_type": "markdown",
   "metadata": {},
   "source": [
    "## SQLite Pros & Cons"
   ]
  },
  {
   "cell_type": "markdown",
   "metadata": {},
   "source": [
    "We use SQLite in this course, but it has some limitations."
   ]
  },
  {
   "cell_type": "markdown",
   "metadata": {},
   "source": [
    "### Pros"
   ]
  },
  {
   "cell_type": "markdown",
   "metadata": {},
   "source": [
    "- Easy to set up\n",
    "- Easy to share database files\n",
    "- Uses little memory"
   ]
  },
  {
   "cell_type": "markdown",
   "metadata": {},
   "source": [
    "### Cons"
   ]
  },
  {
   "cell_type": "markdown",
   "metadata": {},
   "source": [
    "- Limited functionality for managing users and access permissions\n",
    "- Not \"thread safe\": two edits at the same time can mess up your data"
   ]
  },
  {
   "cell_type": "markdown",
   "metadata": {},
   "source": [
    "## Extra Resources: SQL Versions"
   ]
  },
  {
   "cell_type": "markdown",
   "metadata": {},
   "source": [
    "[What Is a SQL Dialect, and Which one Should You Learn?](https://learnsql.com/blog/what-sql-dialect-to-learn/)\n",
    "\n",
    "[SQLite vs MySQL vs PostgreSQL](https://www.digitalocean.com/community/tutorials/sqlite-vs-mysql-vs-postgresql-a-comparison-of-relational-database-management-systems)\n",
    "\n",
    "[SQL Dialect Reference](https://en.wikibooks.org/wiki/SQL_Dialects_Reference)"
   ]
  },
  {
   "cell_type": "markdown",
   "metadata": {},
   "source": [
    "# Web Databases: data.world"
   ]
  },
  {
   "cell_type": "markdown",
   "metadata": {},
   "source": [
    "For the rest of this lesson, we'll be exploring databases in [data.world](https://data.world/), a web database that we can query using SQL in our browser. For reference, you can see the instructions for creating a new project here: [Getting Started Working with Data at data.world](https://help.data.world/hc/en-us/articles/360008853693-Getting-started-guide#working_with_data)"
   ]
  },
  {
   "cell_type": "markdown",
   "metadata": {},
   "source": [
    "## Step 1: Create a data.world account"
   ]
  },
  {
   "cell_type": "markdown",
   "metadata": {},
   "source": [
    "You will need to enter and verify your email address."
   ]
  },
  {
   "cell_type": "markdown",
   "metadata": {},
   "source": [
    "## Step 2: Create a project using this [Austin AirBnB](https://data.world/jonloyens/inside-airbnb-austin) dataset"
   ]
  },
  {
   "cell_type": "markdown",
   "metadata": {},
   "source": [
    "Navigate to [this page](https://data.world/jonloyens/inside-airbnb-austin) and use the button at the top right of the page to create a new project using the data.\n",
    "\n",
    "![](./images/data_world_austin_airbnb_new_proj.png)"
   ]
  },
  {
   "cell_type": "markdown",
   "metadata": {},
   "source": [
    "## Step 3: Create a SQL query"
   ]
  },
  {
   "cell_type": "markdown",
   "metadata": {},
   "source": [
    "In your project, use the \"+ Add\" button to add a SQL query.\n",
    "\n",
    "![](./images/data_world_add_sql_query.png)"
   ]
  },
  {
   "cell_type": "markdown",
   "metadata": {},
   "source": [
    "## Step 4: Run a simple SQL query"
   ]
  },
  {
   "cell_type": "markdown",
   "metadata": {},
   "source": [
    "Try entering \"SELECT * FROM listings\" and clicking the \"Run Query\" button in the top right."
   ]
  },
  {
   "cell_type": "markdown",
   "metadata": {},
   "source": [
    "\n",
    "## Step 5: Practice using SQL to explore the data"
   ]
  },
  {
   "cell_type": "markdown",
   "metadata": {},
   "source": [
    "Below are some exercises to practice your SQL skills and help explore the data. You will need to explore the table schemas to complete these exercises. \n",
    "\n",
    "You may find it helpful to click on the corresponding .csv files to inspect the data, or look at the columns in each table in the right sidebar."
   ]
  },
  {
   "cell_type": "markdown",
   "metadata": {},
   "source": [
    "### Exercise 1: Create a table showing the number of listings in each neighborhood"
   ]
  },
  {
   "cell_type": "markdown",
   "metadata": {},
   "source": [
    "### Exercise 2: Create a table showing the 20 listings with the most reviews"
   ]
  },
  {
   "cell_type": "markdown",
   "metadata": {},
   "source": [
    "### Exercise 3: Create a table showing all of the reviews for listings that are \"Bed & Breakfast\" property types."
   ]
  },
  {
   "cell_type": "markdown",
   "metadata": {},
   "source": [
    "### Exercise 4: Run your own query using a subquery or CTE."
   ]
  },
  {
   "cell_type": "markdown",
   "metadata": {},
   "source": [
    "Note that the syntax and functionality for subqueries and CTEs in data.world are more limited than SQLite, so try creating simple ones."
   ]
  }
 ],
 "metadata": {
  "kernelspec": {
   "display_name": "Python 3",
   "language": "python",
   "name": "python3"
  },
  "language_info": {
   "codemirror_mode": {
    "name": "ipython",
    "version": 3
   },
   "file_extension": ".py",
   "mimetype": "text/x-python",
   "name": "python",
   "nbconvert_exporter": "python",
   "pygments_lexer": "ipython3",
   "version": "3.8.5"
  },
  "toc": {
   "base_numbering": 1,
   "nav_menu": {},
   "number_sections": true,
   "sideBar": true,
   "skip_h1_title": false,
   "title_cell": "Table of Contents",
   "title_sidebar": "TOC",
   "toc_cell": true,
   "toc_position": {
    "height": "calc(100% - 180px)",
    "left": "10px",
    "top": "150px",
    "width": "336px"
   },
   "toc_section_display": true,
   "toc_window_display": true
  },
  "varInspector": {
   "cols": {
    "lenName": 16,
    "lenType": 16,
    "lenVar": 40
   },
   "kernels_config": {
    "python": {
     "delete_cmd_postfix": "",
     "delete_cmd_prefix": "del ",
     "library": "var_list.py",
     "varRefreshCmd": "print(var_dic_list())"
    },
    "r": {
     "delete_cmd_postfix": ") ",
     "delete_cmd_prefix": "rm(",
     "library": "var_list.r",
     "varRefreshCmd": "cat(var_dic_list()) "
    }
   },
   "types_to_exclude": [
    "module",
    "function",
    "builtin_function_or_method",
    "instance",
    "_Feature"
   ],
   "window_display": true
  }
 },
 "nbformat": 4,
 "nbformat_minor": 2
}
