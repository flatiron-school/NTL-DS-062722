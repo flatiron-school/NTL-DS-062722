{
 "cells": [
  {
   "cell_type": "markdown",
   "metadata": {
    "toc": true
   },
   "source": [
    "<h1>Table of Contents<span class=\"tocSkip\"></span></h1>\n",
    "<div class=\"toc\"><ul class=\"toc-item\"><li><span><a href=\"#Data-Visualization\" data-toc-modified-id=\"Data-Visualization-1\"><span class=\"toc-item-num\">1&nbsp;&nbsp;</span>Data Visualization</a></span><ul class=\"toc-item\"><li><span><a href=\"#Learning-Goals\" data-toc-modified-id=\"Learning-Goals-1.1\"><span class=\"toc-item-num\">1.1&nbsp;&nbsp;</span>Learning Goals</a></span></li><li><span><a href=\"#Visualization-Motivation:-Why-Visualize-Data?\" data-toc-modified-id=\"Visualization-Motivation:-Why-Visualize-Data?-1.2\"><span class=\"toc-item-num\">1.2&nbsp;&nbsp;</span>Visualization Motivation: Why Visualize Data?</a></span><ul class=\"toc-item\"><li><span><a href=\"#Dataframe-vs.-Statistics-vs.-Graph:-Which-do-you-prefer?\" data-toc-modified-id=\"Dataframe-vs.-Statistics-vs.-Graph:-Which-do-you-prefer?-1.2.1\"><span class=\"toc-item-num\">1.2.1&nbsp;&nbsp;</span>Dataframe vs. Statistics vs. Graph: Which do you prefer?</a></span></li><li><span><a href=\"#Visualizing-for-Yourself-vs.-Visualizing-for-Others\" data-toc-modified-id=\"Visualizing-for-Yourself-vs.-Visualizing-for-Others-1.2.2\"><span class=\"toc-item-num\">1.2.2&nbsp;&nbsp;</span>Visualizing for Yourself vs. Visualizing for Others</a></span></li></ul></li><li><span><a href=\"#Plotting-Syntax\" data-toc-modified-id=\"Plotting-Syntax-1.3\"><span class=\"toc-item-num\">1.3&nbsp;&nbsp;</span>Plotting Syntax</a></span><ul class=\"toc-item\"><li><span><a href=\"#Pandas-.plot\" data-toc-modified-id=\"Pandas-.plot-1.3.1\"><span class=\"toc-item-num\">1.3.1&nbsp;&nbsp;</span>Pandas <code>.plot</code></a></span></li><li><span><a href=\"#Seaborn\" data-toc-modified-id=\"Seaborn-1.3.2\"><span class=\"toc-item-num\">1.3.2&nbsp;&nbsp;</span>Seaborn</a></span></li><li><span><a href=\"#Matplotlib\" data-toc-modified-id=\"Matplotlib-1.3.3\"><span class=\"toc-item-num\">1.3.3&nbsp;&nbsp;</span>Matplotlib</a></span></li><li><span><a href=\"#Anatomy-of-a-matplotlib-Figure\" data-toc-modified-id=\"Anatomy-of-a-matplotlib-Figure-1.3.4\"><span class=\"toc-item-num\">1.3.4&nbsp;&nbsp;</span>Anatomy of a <code>matplotlib</code> Figure</a></span></li><li><span><a href=\"#Getting-Granular!\" data-toc-modified-id=\"Getting-Granular!-1.3.5\"><span class=\"toc-item-num\">1.3.5&nbsp;&nbsp;</span>Getting Granular!</a></span><ul class=\"toc-item\"><li><span><a href=\"#Change-color,-opacity,-marker-size,-and-marker-symbol\" data-toc-modified-id=\"Change-color,-opacity,-marker-size,-and-marker-symbol-1.3.5.1\"><span class=\"toc-item-num\">1.3.5.1&nbsp;&nbsp;</span>Change color, opacity, marker size, and marker symbol</a></span></li><li><span><a href=\"#Can-identify-colors-by-hexadecimal-code\" data-toc-modified-id=\"Can-identify-colors-by-hexadecimal-code-1.3.5.2\"><span class=\"toc-item-num\">1.3.5.2&nbsp;&nbsp;</span>Can identify colors by hexadecimal code</a></span></li><li><span><a href=\"#Add-a-third-variable-by-setting-the-color-(or-size)-equal-to-a-third-column\" data-toc-modified-id=\"Add-a-third-variable-by-setting-the-color-(or-size)-equal-to-a-third-column-1.3.5.3\"><span class=\"toc-item-num\">1.3.5.3&nbsp;&nbsp;</span>Add a third variable by setting the color (or size) equal to a third column</a></span></li><li><span><a href=\"#Layer-plots-on-top-of-each-other,-to-provide-potentially-useful-context\" data-toc-modified-id=\"Layer-plots-on-top-of-each-other,-to-provide-potentially-useful-context-1.3.5.4\"><span class=\"toc-item-num\">1.3.5.4&nbsp;&nbsp;</span>Layer plots on top of each other, to provide potentially useful context</a></span></li><li><span><a href=\"#Annotate-directly-on-the-plot!\" data-toc-modified-id=\"Annotate-directly-on-the-plot!-1.3.5.5\"><span class=\"toc-item-num\">1.3.5.5&nbsp;&nbsp;</span>Annotate directly on the plot!</a></span></li><li><span><a href=\"#Adjust-the-axis-labels-to-more-clearly-show-the-scale-of-our-plots\" data-toc-modified-id=\"Adjust-the-axis-labels-to-more-clearly-show-the-scale-of-our-plots-1.3.5.6\"><span class=\"toc-item-num\">1.3.5.6&nbsp;&nbsp;</span>Adjust the axis labels to more clearly show the scale of our plots</a></span></li><li><span><a href=\"#Save-the-plot-as-an-image-file\" data-toc-modified-id=\"Save-the-plot-as-an-image-file-1.3.5.7\"><span class=\"toc-item-num\">1.3.5.7&nbsp;&nbsp;</span>Save the plot as an image file</a></span></li></ul></li><li><span><a href=\"#Multiple-Plots-(Axes)\" data-toc-modified-id=\"Multiple-Plots-(Axes)-1.3.6\"><span class=\"toc-item-num\">1.3.6&nbsp;&nbsp;</span>Multiple Plots (Axes)</a></span><ul class=\"toc-item\"><li><span><a href=\"#Slightly-Different-Notation\" data-toc-modified-id=\"Slightly-Different-Notation-1.3.6.1\"><span class=\"toc-item-num\">1.3.6.1&nbsp;&nbsp;</span>Slightly Different Notation</a></span></li><li><span><a href=\"#Customize-Multiple-Plot-Grid\" data-toc-modified-id=\"Customize-Multiple-Plot-Grid-1.3.6.2\"><span class=\"toc-item-num\">1.3.6.2&nbsp;&nbsp;</span>Customize Multiple Plot Grid</a></span></li></ul></li></ul></li><li><span><a href=\"#Exploring-Plot-Types\" data-toc-modified-id=\"Exploring-Plot-Types-1.4\"><span class=\"toc-item-num\">1.4&nbsp;&nbsp;</span>Exploring Plot Types</a></span></li><li><span><a href=\"#Accessible-Visualizations!\" data-toc-modified-id=\"Accessible-Visualizations!-1.5\"><span class=\"toc-item-num\">1.5&nbsp;&nbsp;</span>Accessible Visualizations!</a></span></li></ul></li><li><span><a href=\"#YOUR-TURN\" data-toc-modified-id=\"YOUR-TURN-2\"><span class=\"toc-item-num\">2&nbsp;&nbsp;</span>YOUR TURN</a></span><ul class=\"toc-item\"><li><span><a href=\"#Back-to-our-Austin-Animal-Center-Data\" data-toc-modified-id=\"Back-to-our-Austin-Animal-Center-Data-2.1\"><span class=\"toc-item-num\">2.1&nbsp;&nbsp;</span>Back to our Austin Animal Center Data</a></span></li><li><span><a href=\"#What-Are-The-Most-Common-Animal-Types?\" data-toc-modified-id=\"What-Are-The-Most-Common-Animal-Types?-2.2\"><span class=\"toc-item-num\">2.2&nbsp;&nbsp;</span>What Are The Most Common Animal Types?</a></span><ul class=\"toc-item\"><li><span><a href=\"#Your-Task:-Improve-This-Visualization!\" data-toc-modified-id=\"Your-Task:-Improve-This-Visualization!-2.2.1\"><span class=\"toc-item-num\">2.2.1&nbsp;&nbsp;</span>Your Task: Improve This Visualization!</a></span></li></ul></li></ul></li><li><span><a href=\"#Level-Up:-Additional-Customization\" data-toc-modified-id=\"Level-Up:-Additional-Customization-3\"><span class=\"toc-item-num\">3&nbsp;&nbsp;</span>Level Up: Additional Customization</a></span><ul class=\"toc-item\"><li><span><a href=\"#Style-Sheets\" data-toc-modified-id=\"Style-Sheets-3.1\"><span class=\"toc-item-num\">3.1&nbsp;&nbsp;</span>Style Sheets</a></span><ul class=\"toc-item\"><li><span><a href=\"#Context-Manager-for-Temporary-Style\" data-toc-modified-id=\"Context-Manager-for-Temporary-Style-3.1.1\"><span class=\"toc-item-num\">3.1.1&nbsp;&nbsp;</span>Context Manager for Temporary Style</a></span></li><li><span><a href=\"#The-xkcd-Style\" data-toc-modified-id=\"The-xkcd-Style-3.1.2\"><span class=\"toc-item-num\">3.1.2&nbsp;&nbsp;</span>The xkcd Style</a></span></li></ul></li><li><span><a href=\"#More-on-Effective-Visualizations\" data-toc-modified-id=\"More-on-Effective-Visualizations-3.2\"><span class=\"toc-item-num\">3.2&nbsp;&nbsp;</span>More on Effective Visualizations</a></span><ul class=\"toc-item\"><li><span><a href=\"#What-Types-Work-Well-Consistently\" data-toc-modified-id=\"What-Types-Work-Well-Consistently-3.2.1\"><span class=\"toc-item-num\">3.2.1&nbsp;&nbsp;</span>What Types Work Well Consistently</a></span></li><li><span><a href=\"#How-to-Lie-with-Graphs\" data-toc-modified-id=\"How-to-Lie-with-Graphs-3.2.2\"><span class=\"toc-item-num\">3.2.2&nbsp;&nbsp;</span>How to Lie with Graphs</a></span></li></ul></li><li><span><a href=\"#Level-Up-Exercise:-Picking-Proper-Plots\" data-toc-modified-id=\"Level-Up-Exercise:-Picking-Proper-Plots-3.3\"><span class=\"toc-item-num\">3.3&nbsp;&nbsp;</span>Level Up Exercise: Picking Proper Plots</a></span><ul class=\"toc-item\"><li><span><a href=\"#Scenario-1\" data-toc-modified-id=\"Scenario-1-3.3.1\"><span class=\"toc-item-num\">3.3.1&nbsp;&nbsp;</span>Scenario 1</a></span></li><li><span><a href=\"#Scenario-2\" data-toc-modified-id=\"Scenario-2-3.3.2\"><span class=\"toc-item-num\">3.3.2&nbsp;&nbsp;</span>Scenario 2</a></span></li><li><span><a href=\"#Scenario-3\" data-toc-modified-id=\"Scenario-3-3.3.3\"><span class=\"toc-item-num\">3.3.3&nbsp;&nbsp;</span>Scenario 3</a></span></li></ul></li></ul></li></ul></div>"
   ]
  },
  {
   "cell_type": "markdown",
   "metadata": {
    "heading_collapsed": true
   },
   "source": [
    "# Data Visualization"
   ]
  },
  {
   "cell_type": "markdown",
   "metadata": {
    "heading_collapsed": true,
    "hidden": true
   },
   "source": [
    "## Learning Goals"
   ]
  },
  {
   "cell_type": "markdown",
   "metadata": {
    "hidden": true
   },
   "source": [
    "- Use `matplotlib` syntax to create graphs and adjust elements\n",
    "- Create figures containing multiple graphs\n",
    "- Choose appropriate graph types based on data and problem context for explanatory visualizations\n"
   ]
  },
  {
   "cell_type": "code",
   "execution_count": null,
   "metadata": {
    "hidden": true
   },
   "outputs": [],
   "source": [
    "# Imports\n",
    "import pandas as pd\n",
    "import numpy as np\n",
    "\n",
    "import matplotlib.pyplot as plt\n",
    "# same as \n",
    "# from matplotlib import pyplot as plt\n",
    "\n",
    "import seaborn as sns\n",
    "\n",
    "from scipy import stats\n",
    "from sklearn.datasets import load_iris"
   ]
  },
  {
   "cell_type": "markdown",
   "metadata": {
    "heading_collapsed": true,
    "hidden": true
   },
   "source": [
    "## Visualization Motivation: Why Visualize Data?"
   ]
  },
  {
   "cell_type": "markdown",
   "metadata": {
    "hidden": true
   },
   "source": [
    "Why can’t we just hand someone a table of data?"
   ]
  },
  {
   "cell_type": "markdown",
   "metadata": {
    "hidden": true
   },
   "source": [
    "Let's load up the iris data set.  This is a famous built-in dataset which is used to learn about categorization. "
   ]
  },
  {
   "cell_type": "code",
   "execution_count": null,
   "metadata": {
    "hidden": true
   },
   "outputs": [],
   "source": [
    "# This iris dataset comes bundled with sklearn\n",
    "data = load_iris()\n",
    "df_iris = pd.DataFrame(data['data'], columns=data['feature_names'])\n",
    "df_iris['target'] = data['target']"
   ]
  },
  {
   "cell_type": "markdown",
   "metadata": {
    "hidden": true
   },
   "source": [
    "Here is an image of one of the virginica iris, which is unique in its relative petal and sepal length."
   ]
  },
  {
   "cell_type": "markdown",
   "metadata": {
    "hidden": true
   },
   "source": [
    "![virginica_iris](images/iris_virginica.jpg)"
   ]
  },
  {
   "cell_type": "markdown",
   "metadata": {
    "heading_collapsed": true,
    "hidden": true
   },
   "source": [
    "### Dataframe vs. Statistics vs. Graph: Which do you prefer?"
   ]
  },
  {
   "cell_type": "code",
   "execution_count": null,
   "metadata": {
    "hidden": true
   },
   "outputs": [],
   "source": [
    "# Five random rows of the iris dataset\n",
    "df_iris.sample(5, random_state=42)"
   ]
  },
  {
   "cell_type": "markdown",
   "metadata": {
    "hidden": true
   },
   "source": [
    "What information in this dataframe jumps out to you?\n",
    "\n",
    "- \n"
   ]
  },
  {
   "cell_type": "code",
   "execution_count": null,
   "metadata": {
    "hidden": true
   },
   "outputs": [],
   "source": [
    "# Summary statistics of the iris dataset\n",
    "df_iris.describe()"
   ]
  },
  {
   "cell_type": "markdown",
   "metadata": {
    "hidden": true
   },
   "source": [
    "What information in this summary statistics table jumps out to you?\n",
    "\n",
    "- \n"
   ]
  },
  {
   "cell_type": "code",
   "execution_count": null,
   "metadata": {
    "hidden": true
   },
   "outputs": [],
   "source": [
    "# Now, let's plot two variables from the iris dataset\n",
    "fig, ax = plt.subplots(figsize=(8, 5))\n",
    "\n",
    "# Use seaborn to plot two facets of the above data, colored by the target column\n",
    "sns.scatterplot(x='sepal length (cm)', y='petal length (cm)', hue='target', data=df_iris)\n",
    "\n",
    "ax.set_title('Petal Length vs Sepal Length for Three Species of Flowers')\n",
    "ax.legend();"
   ]
  },
  {
   "cell_type": "markdown",
   "metadata": {
    "hidden": true
   },
   "source": [
    "What information in this graph jumps out to you?\n",
    "\n",
    "- \n"
   ]
  },
  {
   "cell_type": "markdown",
   "metadata": {
    "heading_collapsed": true,
    "hidden": true
   },
   "source": [
    "### Visualizing for Yourself vs. Visualizing for Others"
   ]
  },
  {
   "cell_type": "markdown",
   "metadata": {
    "hidden": true
   },
   "source": [
    "An important point: you're going to be creating two kinds of visualizations - ones you create for yourself, to explore your own data, and ones you create for others, to share your findings.\n",
    "\n",
    "AKA: **exploratory** vs **explanatory** plots!\n",
    "\n",
    "Our goal with **exploratory** visualizations is to better understand the data, and we often don't really intend to share these plots - but you should still get in the habit of labeling your plots and writing out your findings and observations (either in markdown/code comments or using titles/annotation on the plots)! This will help you quickly get up to speed when you revisit your work later, or will be helpful when others stumble upon your work.\n",
    "\n",
    "Our goal in **explanatory** visualizations is to convey/communicate insight(s) effectively to our audience. That audience can be other data scientists but can also be stakeholders unfamiliar with data analysis or statistical concepts.\n",
    "\n",
    "Some guidelines when creating **explanatory** visualizations (which should also apply to exploratory plots):\n",
    "\n",
    "- Each graph should have one clear point it is trying to make. Don't try to do too much with one plot!\n",
    "\n",
    "- Know your audience! Come up with a use case and audience to help guide your decision-making process - if you know your audience, and you know what they care about and what they need, everything in the process gets easier\n",
    "\n",
    "- Choose the correct graph for the relationship you are trying to communicate\n",
    "\n",
    "- Label your axes and graph! It should not be difficult for someone to understand what your graph is trying to represent\n",
    "\n",
    "- People have unconscious responses to visuals which will effect the way they interpret information. Good visualization makes use of these natural shortcuts in cognition to convey information more efficiently\n",
    "    - Red and Down tends to be negative while Green and Up is positive\n",
    "    - Lighter hues are seen as lower values and darker is higher values\n",
    "    - Axis start at zero\n",
    "        \n",
    "__Note:__ All of these 'rules' can be broken but know that you will be working against most people's first instinct\n",
    "\n",
    "\n",
    "Our goal today is to help you be able to create both!"
   ]
  },
  {
   "cell_type": "markdown",
   "metadata": {
    "heading_collapsed": true,
    "hidden": true
   },
   "source": [
    "## Plotting Syntax"
   ]
  },
  {
   "cell_type": "markdown",
   "metadata": {
    "hidden": true
   },
   "source": [
    "Let's read in some new data:"
   ]
  },
  {
   "cell_type": "code",
   "execution_count": null,
   "metadata": {
    "hidden": true
   },
   "outputs": [],
   "source": [
    "# This is a default penguins dataset that comes bundled with seaborn\n"
   ]
  },
  {
   "cell_type": "code",
   "execution_count": null,
   "metadata": {
    "hidden": true
   },
   "outputs": [],
   "source": [
    "# Check it out\n"
   ]
  },
  {
   "cell_type": "markdown",
   "metadata": {
    "heading_collapsed": true,
    "hidden": true
   },
   "source": [
    "### Pandas `.plot`\n",
    "\n",
    "Let's start with the simplest way to plot data - using pandas built-in methods.\n",
    "\n",
    "Documentation! https://pandas.pydata.org/docs/reference/api/pandas.DataFrame.plot.html\n",
    "\n",
    "Goal: Create a scatterplot showing flipper_length_mm and body_mass_g."
   ]
  },
  {
   "cell_type": "code",
   "execution_count": null,
   "metadata": {
    "hidden": true,
    "scrolled": false
   },
   "outputs": [],
   "source": [
    "# Simple way to throw a plot on top of data\n"
   ]
  },
  {
   "cell_type": "code",
   "execution_count": null,
   "metadata": {
    "hidden": true
   },
   "outputs": [],
   "source": [
    "# Can also specify the kind of plot this way\n"
   ]
  },
  {
   "cell_type": "markdown",
   "metadata": {
    "hidden": true
   },
   "source": [
    "This is a pretty simple way to plot data - it's based on matplotlib, there are a good amount of options you can pass to play around with it, and you can stack this with matplotlib functions to do things like add titles or axis labels.\n",
    "\n",
    "This is a good option if you are exploring data."
   ]
  },
  {
   "cell_type": "markdown",
   "metadata": {
    "heading_collapsed": true,
    "hidden": true
   },
   "source": [
    "### Seaborn\n",
    "\n",
    "Seaborn, like pandas plotting, is built on top of matplotlib, and is designed to make certain things you might want to try or explore a bit easier.\n",
    "\n",
    "Documentation! https://seaborn.pydata.org/api.html"
   ]
  },
  {
   "cell_type": "code",
   "execution_count": null,
   "metadata": {
    "hidden": true
   },
   "outputs": [],
   "source": [
    "# Recreate the same plot in seaborn\n"
   ]
  },
  {
   "cell_type": "markdown",
   "metadata": {
    "hidden": true
   },
   "source": [
    "One nice thing about seaborn is that many of their plots take the 'hue' argument, which effortlessly designates a category with colors:"
   ]
  },
  {
   "cell_type": "code",
   "execution_count": null,
   "metadata": {
    "hidden": true
   },
   "outputs": [],
   "source": [
    "# Color by penguin species\n"
   ]
  },
  {
   "cell_type": "markdown",
   "metadata": {
    "hidden": true
   },
   "source": [
    "Seaborn can be great for both kinds of plots - they're easy to put together and make exploring data pretty efficient, and their default plots often look nice effortlessly. "
   ]
  },
  {
   "cell_type": "markdown",
   "metadata": {
    "hidden": true
   },
   "source": [
    "### Matplotlib\n",
    "\n",
    "At the end of the day, these other plotting methods are all built on top of matplotlib - thus, you have to get comfortable with matplotlib syntax in order to build more specific or more effective plots."
   ]
  },
  {
   "cell_type": "code",
   "execution_count": null,
   "metadata": {
    "hidden": true
   },
   "outputs": [],
   "source": [
    "# This is one matplotlib syntax - the non-fig/ax method\n"
   ]
  },
  {
   "cell_type": "code",
   "execution_count": null,
   "metadata": {
    "hidden": true
   },
   "outputs": [],
   "source": [
    "# This is the other plotting syntax. Note that plt.subplots()\n",
    "# returns two things: the figure object and the axis object\n",
    "# This option gives you the MOST flexibility and access to matplotlib elements!\n"
   ]
  },
  {
   "cell_type": "markdown",
   "metadata": {
    "heading_collapsed": true,
    "hidden": true
   },
   "source": [
    "### Anatomy of a `matplotlib` Figure"
   ]
  },
  {
   "cell_type": "markdown",
   "metadata": {
    "hidden": true
   },
   "source": [
    "<img src=\"images/matplotlib_anatomy.png\">"
   ]
  },
  {
   "cell_type": "markdown",
   "metadata": {
    "hidden": true
   },
   "source": [
    "Explanation of non-obvious terms:\n",
    "\n",
    "__Figure__ - This is the \"sheet of paper\" all of your graphing sits on. \n",
    "\n",
    "__Axis__ - An axis is an individual plot. You can have multiple axes on one figure\n",
    "\n",
    "__Major/Minor Ticks__ - The large and small dashes on the x and y axis\n",
    "\n",
    "__Markers__ - In a scatter plot each of the points is refered to as a marker\n",
    "\n",
    "__Spines__ - The lines that bound each axis"
   ]
  },
  {
   "cell_type": "markdown",
   "metadata": {
    "heading_collapsed": true,
    "hidden": true
   },
   "source": [
    "### Getting Granular!\n",
    "\n",
    "#### Change color, opacity, marker size, and marker symbol\n",
    "\n",
    "Resources:\n",
    "- Named colors: https://matplotlib.org/3.1.0/gallery/color/named_colors.html\n",
    "- Marker symbols: https://matplotlib.org/3.2.1/api/markers_api.html"
   ]
  },
  {
   "cell_type": "code",
   "execution_count": null,
   "metadata": {
    "hidden": true,
    "scrolled": false
   },
   "outputs": [],
   "source": []
  },
  {
   "cell_type": "markdown",
   "metadata": {
    "heading_collapsed": true,
    "hidden": true
   },
   "source": [
    "#### Can identify colors by hexadecimal code"
   ]
  },
  {
   "cell_type": "code",
   "execution_count": null,
   "metadata": {
    "hidden": true,
    "scrolled": false
   },
   "outputs": [],
   "source": []
  },
  {
   "cell_type": "markdown",
   "metadata": {
    "heading_collapsed": true,
    "hidden": true
   },
   "source": [
    "#### Add a third variable by setting the color (or size) equal to a third column"
   ]
  },
  {
   "cell_type": "code",
   "execution_count": null,
   "metadata": {
    "hidden": true,
    "scrolled": false
   },
   "outputs": [],
   "source": []
  },
  {
   "cell_type": "markdown",
   "metadata": {
    "heading_collapsed": true,
    "hidden": true
   },
   "source": [
    "#### Layer plots on top of each other, to provide potentially useful context"
   ]
  },
  {
   "cell_type": "code",
   "execution_count": null,
   "metadata": {
    "hidden": true
   },
   "outputs": [],
   "source": []
  },
  {
   "cell_type": "markdown",
   "metadata": {
    "heading_collapsed": true,
    "hidden": true
   },
   "source": [
    "#### Annotate directly on the plot!"
   ]
  },
  {
   "cell_type": "code",
   "execution_count": null,
   "metadata": {
    "hidden": true,
    "scrolled": true
   },
   "outputs": [],
   "source": []
  },
  {
   "cell_type": "code",
   "execution_count": null,
   "metadata": {
    "hidden": true
   },
   "outputs": [],
   "source": [
    "# More granular with annotations...\n"
   ]
  },
  {
   "cell_type": "markdown",
   "metadata": {
    "heading_collapsed": true,
    "hidden": true
   },
   "source": [
    "#### Adjust the axis labels to more clearly show the scale of our plots"
   ]
  },
  {
   "cell_type": "code",
   "execution_count": null,
   "metadata": {
    "hidden": true
   },
   "outputs": [],
   "source": [
    "# need a new import\n"
   ]
  },
  {
   "cell_type": "code",
   "execution_count": null,
   "metadata": {
    "hidden": true
   },
   "outputs": [],
   "source": []
  },
  {
   "cell_type": "markdown",
   "metadata": {
    "heading_collapsed": true,
    "hidden": true
   },
   "source": [
    "#### Save the plot as an image file"
   ]
  },
  {
   "cell_type": "code",
   "execution_count": null,
   "metadata": {
    "hidden": true
   },
   "outputs": [],
   "source": []
  },
  {
   "cell_type": "markdown",
   "metadata": {
    "heading_collapsed": true,
    "hidden": true
   },
   "source": [
    "### Multiple Plots (Axes)"
   ]
  },
  {
   "cell_type": "markdown",
   "metadata": {
    "hidden": true
   },
   "source": [
    "Sometimes we want multiple plots to be a part of the same figure."
   ]
  },
  {
   "cell_type": "code",
   "execution_count": null,
   "metadata": {
    "hidden": true
   },
   "outputs": [],
   "source": [
    "fig, ax = plt.subplots(nrows=2, ncols=3, figsize=(8, 6))\n",
    "# The above line gives me a figure with six subplots,\n",
    "# arranged in two rows of three.\n",
    "\n",
    "X = np.linspace(-3, 3, 100)\n",
    "Ys = [[j*x for x in X] for j in range(1, 7)]\n",
    "\n",
    "ax[0, 0].plot(X, Ys[0], c='red')\n",
    "ax[0, 0].set_title('y=x')\n",
    "\n",
    "ax[0, 1].plot(X, Ys[1], c='orange')\n",
    "ax[0, 1].set_title('y=2x')\n",
    "\n",
    "ax[0, 2].plot(X, Ys[2], c='yellow')\n",
    "ax[0, 2].set_title('y=3x')\n",
    "\n",
    "ax[1, 0].plot(X, Ys[3], c='green')\n",
    "ax[1, 0].set_title('y=4x')\n",
    "\n",
    "ax[1, 1].plot(X, Ys[4], c='blue')\n",
    "ax[1, 1].set_title('y=5x')\n",
    "\n",
    "ax[1, 2].plot(X, Ys[5], c='purple')\n",
    "ax[1, 2].set_title('y=6x')\n",
    "\n",
    "plt.tight_layout()"
   ]
  },
  {
   "cell_type": "markdown",
   "metadata": {
    "heading_collapsed": true,
    "hidden": true
   },
   "source": [
    "#### Slightly Different Notation"
   ]
  },
  {
   "cell_type": "markdown",
   "metadata": {
    "hidden": true
   },
   "source": [
    "Note we could change the notation to unpack the passed axes in different ways. This can be useful in how we use the axis to make different plots."
   ]
  },
  {
   "cell_type": "code",
   "execution_count": null,
   "metadata": {
    "hidden": true
   },
   "outputs": [],
   "source": [
    "# This saves two arrays of axes representing each row and elements referring to \n",
    "# the columns\n",
    "fig, (ax_row0, ax_row1) = plt.subplots(nrows=2, ncols=3, figsize=(8, 6))\n",
    "\n",
    "Ys = [[j*x for x in X] for j in range(1, 7)]\n",
    "\n",
    "## First Row\n",
    "ax_row0[0].plot(X, Ys[0], c='red')\n",
    "ax_row0[0].set_title('y=x')\n",
    "\n",
    "ax_row0[1].plot(X, Ys[1], c='orange')\n",
    "ax_row0[1].set_title('y=2x')\n",
    "\n",
    "ax_row0[2].plot(X, Ys[2], c='yellow')\n",
    "ax_row0[2].set_title('y=3x')\n",
    "\n",
    "## Second Row\n",
    "ax_row1[0].plot(X, Ys[3], c='green')\n",
    "ax_row1[0].set_title('y=4x')\n",
    "\n",
    "ax_row1[1].plot(X, Ys[4], c='blue')\n",
    "ax_row1[1].set_title('y=5x')\n",
    "\n",
    "ax_row1[2].plot(X, Ys[5], c='purple')\n",
    "ax_row1[2].set_title('y=6x')\n",
    "\n",
    "plt.tight_layout()"
   ]
  },
  {
   "cell_type": "code",
   "execution_count": null,
   "metadata": {
    "hidden": true
   },
   "outputs": [],
   "source": [
    "# This unpacks each axis as a separate variable\n",
    "fig, ((ax00, ax01, ax02), (ax10, ax11, ax12)) = plt.subplots(nrows=2, ncols=3, figsize=(8, 6))\n",
    "\n",
    "Ys = [[j*x for x in X] for j in range(1, 7)]\n",
    "\n",
    "## First Row\n",
    "ax00.plot(X, Ys[0], c='red')\n",
    "ax00.set_title('y=x')\n",
    "\n",
    "ax01.plot(X, Ys[1], c='orange')\n",
    "ax01.set_title('y=2x')\n",
    "\n",
    "ax02.plot(X, Ys[2], c='yellow')\n",
    "ax02.set_title('y=3x')\n",
    "\n",
    "## Second Row\n",
    "ax10.plot(X, Ys[3], c='green')\n",
    "ax10.set_title('y=4x')\n",
    "\n",
    "ax11.plot(X, Ys[4], c='blue')\n",
    "ax11.set_title('y=5x')\n",
    "\n",
    "ax12.plot(X, Ys[5], c='purple')\n",
    "ax12.set_title('y=6x')\n",
    "\n",
    "plt.tight_layout()"
   ]
  },
  {
   "cell_type": "markdown",
   "metadata": {
    "heading_collapsed": true,
    "hidden": true
   },
   "source": [
    "#### Customize Multiple Plot Grid"
   ]
  },
  {
   "cell_type": "markdown",
   "metadata": {
    "hidden": true
   },
   "source": [
    "We can add some parameters to `plt.subplots()` that allow us to treat the different axes the same"
   ]
  },
  {
   "cell_type": "code",
   "execution_count": null,
   "metadata": {
    "hidden": true
   },
   "outputs": [],
   "source": [
    "nrows = 2\n",
    "ncols = 3\n",
    "fig, ax = plt.subplots(\n",
    "    nrows=nrows,\n",
    "    ncols=ncols,\n",
    "    figsize=(8, 6),\n",
    "    sharey=True     # This allows the y-axis to be consistent\n",
    ")\n",
    "\n",
    "\n",
    "Ys = [[j*x for x in X] for j in range(1, 7)]\n",
    "colors = ['red', 'orange', 'yellow', 'green', 'blue', 'purple']\n",
    "n = 0\n",
    "\n",
    "for r in range(nrows):\n",
    "    for c in range(ncols):\n",
    "        ax[r, c].plot(X, Ys[n], c=colors[n])\n",
    "        ax[r, c].set_title(f'y={n+1}x')\n",
    "        n += 1\n",
    "\n",
    "plt.tight_layout()"
   ]
  },
  {
   "cell_type": "markdown",
   "metadata": {
    "heading_collapsed": true,
    "hidden": true
   },
   "source": [
    "## Exploring Plot Types"
   ]
  },
  {
   "cell_type": "markdown",
   "metadata": {
    "hidden": true
   },
   "source": [
    "![image source: https://multimedia.journalism.berkeley.edu/tutorials/visualizing-data-a-guide-to-chart-types/](https://multimedia.journalism.berkeley.edu/wp-content/uploads/Screen-Shot-2016-08-11-at-1.34.23-PM.png)\n",
    "\n",
    "[Image Source](https://multimedia.journalism.berkeley.edu/tutorials/visualizing-data-a-guide-to-chart-types/)"
   ]
  },
  {
   "cell_type": "markdown",
   "metadata": {
    "hidden": true
   },
   "source": [
    "A nice overview!\n",
    "\n",
    "For a similar reference specifically for python plots, check out the [Python Graph Gallery](https://python-graph-gallery.com)\n",
    "\n",
    "You'll notice that these are sorted by what you want to showcase/demonstrate - the most important thing you should consider when starting to plot data is what exactly you're looking for or trying to say!"
   ]
  },
  {
   "cell_type": "markdown",
   "metadata": {
    "heading_collapsed": true,
    "hidden": true
   },
   "source": [
    "## Accessible Visualizations!"
   ]
  },
  {
   "cell_type": "markdown",
   "metadata": {
    "hidden": true
   },
   "source": [
    "PLEASE READ this excellent blog post walking through how to make your charts both more effective and more accessible to all: https://flourish.studio/blog/accessible-chart-design/\n",
    "\n",
    "Specifically, they focus on accessibility along three aspects of visualizations: Text, Color, and Animation (yes, there are ways to make animated plots in python!)\n",
    "\n",
    "A teaser (aka the first two paragraphs of the post):\n",
    "\n",
    "> When putting together a visualization or data story, it’s useful to remember that not everyone experiences the world as you do. A color palette that looks pretty to your eye might be difficult to differentiate for some viewers. Or a chart that you find easy to “read” might be hard to interpret for someone less data literate.\n",
    ">\n",
    "> This is a problem. If we don’t make our visuals accessible, not everyone can understand them, reducing their engagement and impact."
   ]
  },
  {
   "cell_type": "markdown",
   "metadata": {
    "heading_collapsed": true
   },
   "source": [
    "# YOUR TURN"
   ]
  },
  {
   "cell_type": "markdown",
   "metadata": {
    "heading_collapsed": true,
    "hidden": true
   },
   "source": [
    "## Back to our Austin Animal Center Data\n",
    "\n",
    "We'll set up the data and some visualizations together."
   ]
  },
  {
   "cell_type": "code",
   "execution_count": null,
   "metadata": {
    "hidden": true
   },
   "outputs": [],
   "source": [
    "# Read in our data - and let's go ahead and parse the dates in the DateTime column\n"
   ]
  },
  {
   "cell_type": "code",
   "execution_count": null,
   "metadata": {
    "hidden": true
   },
   "outputs": [],
   "source": [
    "# Check it out\n"
   ]
  },
  {
   "cell_type": "code",
   "execution_count": null,
   "metadata": {
    "hidden": true,
    "scrolled": true
   },
   "outputs": [],
   "source": [
    "# Check the dataframe's info to make sure the dates were parsed correctly\n"
   ]
  },
  {
   "cell_type": "markdown",
   "metadata": {
    "heading_collapsed": true,
    "hidden": true
   },
   "source": [
    "## What Are The Most Common Animal Types?"
   ]
  },
  {
   "cell_type": "code",
   "execution_count": null,
   "metadata": {
    "hidden": true
   },
   "outputs": [],
   "source": [
    "# can access the data we need with value counts\n"
   ]
  },
  {
   "cell_type": "code",
   "execution_count": null,
   "metadata": {
    "hidden": true
   },
   "outputs": [],
   "source": [
    "# Is this a good time for a pie chart?\n"
   ]
  },
  {
   "cell_type": "markdown",
   "metadata": {
    "hidden": true
   },
   "source": [
    "Discuss:\n",
    "\n",
    "- \n"
   ]
  },
  {
   "cell_type": "code",
   "execution_count": null,
   "metadata": {
    "hidden": true,
    "scrolled": true
   },
   "outputs": [],
   "source": [
    "# What about a bar graph?\n"
   ]
  },
  {
   "cell_type": "markdown",
   "metadata": {
    "hidden": true
   },
   "source": [
    "Discuss:\n",
    "\n",
    "- \n"
   ]
  },
  {
   "cell_type": "markdown",
   "metadata": {
    "heading_collapsed": true,
    "hidden": true
   },
   "source": [
    "### Your Task: Improve This Visualization!\n",
    "\n",
    "Your goal is to visualize what you think the purpose of the plot is - adjust colors or plot type, add annotations, etc etc to make this plot more effective. You'll be in small groups for about 10 minutes, then we'll come back and share!"
   ]
  },
  {
   "cell_type": "code",
   "execution_count": null,
   "metadata": {
    "hidden": true
   },
   "outputs": [],
   "source": [
    "# Your code here"
   ]
  },
  {
   "cell_type": "markdown",
   "metadata": {
    "hidden": true
   },
   "source": [
    "Discuss:\n",
    "\n",
    "- \n"
   ]
  },
  {
   "cell_type": "markdown",
   "metadata": {
    "heading_collapsed": true
   },
   "source": [
    "# Level Up: Additional Customization"
   ]
  },
  {
   "cell_type": "markdown",
   "metadata": {
    "heading_collapsed": true,
    "hidden": true
   },
   "source": [
    "## Style Sheets"
   ]
  },
  {
   "cell_type": "markdown",
   "metadata": {
    "hidden": true
   },
   "source": [
    "[Style Sheets](https://matplotlib.org/3.1.1/gallery/style_sheets/style_sheets_reference.html) can add extra customization to your plots."
   ]
  },
  {
   "cell_type": "code",
   "execution_count": null,
   "metadata": {
    "hidden": true
   },
   "outputs": [],
   "source": [
    "# Uses this \"style\" for the rest of your notebook\n",
    "plt.style.use('fivethirtyeight')"
   ]
  },
  {
   "cell_type": "code",
   "execution_count": null,
   "metadata": {
    "hidden": true
   },
   "outputs": [],
   "source": [
    "## Showing a plot with this style\n",
    "fig, ax = plt.subplots()\n",
    "\n",
    "X = np.linspace(-3, 3, 100)\n",
    "y = X**2\n",
    "ax.plot(X, y)\n",
    "ax.set_title('Parabola with words')\n",
    "ax.text(s='random comment', x=0, y=3)\n",
    "ax.annotate(text='minimum!', xy=(0, 0), xytext=(1, -4),\n",
    "           arrowprops={'facecolor': 'black'});"
   ]
  },
  {
   "cell_type": "code",
   "execution_count": null,
   "metadata": {
    "hidden": true
   },
   "outputs": [],
   "source": [
    "# Go back to the default style \n",
    "plt.style.use('default')"
   ]
  },
  {
   "cell_type": "markdown",
   "metadata": {
    "heading_collapsed": true,
    "hidden": true
   },
   "source": [
    "### Context Manager for Temporary Style"
   ]
  },
  {
   "cell_type": "markdown",
   "metadata": {
    "hidden": true
   },
   "source": [
    "We can have temporary style change by using a [context manager for our style](https://matplotlib.org/stable/tutorials/introductory/customizing.html#temporary-styling)."
   ]
  },
  {
   "cell_type": "code",
   "execution_count": null,
   "metadata": {
    "hidden": true
   },
   "outputs": [],
   "source": [
    "# Allows your us to use a temporary style just for the plot in block of code\n",
    "with plt.style.context('ggplot'):\n",
    "    fig, ax = plt.subplots()\n",
    "\n",
    "    X = np.linspace(-3, 3, 100)\n",
    "    y = X**2\n",
    "    ax.plot(X, y)\n",
    "    ax.set_title('Parabola with words')\n",
    "    ax.text(s='random comment', x=0, y=3)\n",
    "    ax.annotate('minimum!', xy=(0, 0), xytext=(1, -4),\n",
    "                arrowprops={'facecolor': 'black'})"
   ]
  },
  {
   "cell_type": "markdown",
   "metadata": {
    "heading_collapsed": true,
    "hidden": true
   },
   "source": [
    "### The xkcd Style"
   ]
  },
  {
   "cell_type": "markdown",
   "metadata": {
    "hidden": true
   },
   "source": [
    "The [xkcd style](https://matplotlib.org/stable/api/_as_gen/matplotlib.pyplot.xkcd.html) can be a convenient style when you want to emphasize that the data shouldn't be taken seriously (such as an estimate versus showing real data)."
   ]
  },
  {
   "cell_type": "code",
   "execution_count": null,
   "metadata": {
    "hidden": true
   },
   "outputs": [],
   "source": [
    "# This also allows to use the xkcd style temporarily\n",
    "with plt.xkcd():\n",
    "    fig, ax = plt.subplots()\n",
    "\n",
    "    X = np.linspace(-3, 3, 100)\n",
    "    y = X**2\n",
    "    ax.plot(X, y)\n",
    "    ax.set_title('Parabola with words')\n",
    "    ax.text(s='random comment', x=0, y=3)\n",
    "    ax.annotate('minimum!', xy=(0, 0), xytext=(1, -4),\n",
    "                arrowprops={'facecolor': 'black'})"
   ]
  },
  {
   "cell_type": "markdown",
   "metadata": {
    "heading_collapsed": true,
    "hidden": true
   },
   "source": [
    "## More on Effective Visualizations"
   ]
  },
  {
   "cell_type": "markdown",
   "metadata": {
    "heading_collapsed": true,
    "hidden": true
   },
   "source": [
    "### What Types Work Well Consistently"
   ]
  },
  {
   "cell_type": "markdown",
   "metadata": {
    "hidden": true
   },
   "source": [
    "Experts and researchers found the best visual patterns humans identify well:\n",
    "\n",
    "> - Positional changes (scatter plots)\n",
    "> - Length changes (bar charts)\n",
    "\n",
    "But we're bad at understanding other patterns...\n",
    "\n",
    "> - Color hue changes \n",
    "> - Area changes (pie charts!)"
   ]
  },
  {
   "cell_type": "markdown",
   "metadata": {
    "heading_collapsed": true,
    "hidden": true
   },
   "source": [
    "### How to Lie with Graphs"
   ]
  },
  {
   "cell_type": "markdown",
   "metadata": {
    "hidden": true
   },
   "source": [
    "- Graphs can be misleading\n",
    "- Consciously or unconsciously people will make decisions to lead people towards their conclusions of the data\n",
    "\n",
    "- Examples of dark patterns\n",
    "    - Changing the axis scale\n",
    "    - Using two different y axis scales to compare trends\n",
    "    - Showing cumulative data which will always be increasing to hide a downturn in a trend\n",
    "    - Pie charts (comparing degrees is not something people are good at) just use a bar chart\n",
    "    - Inconsistent units\n",
    "    - Not showing all of the data for motivated reasons\n",
    "    - Percentages not adding up to 100\n",
    "\n",
    "<img src=\"images/pie-chart-misleading.png\">\n",
    "\n",
    "[image source](http://flowingdata.com/2009/11/26/fox-news-makes-the-best-pie-chart-ever/)"
   ]
  },
  {
   "cell_type": "markdown",
   "metadata": {
    "heading_collapsed": true,
    "hidden": true
   },
   "source": [
    "## Level Up Exercise: Picking Proper Plots"
   ]
  },
  {
   "cell_type": "markdown",
   "metadata": {
    "hidden": true
   },
   "source": [
    "Now that we've seen a few different visualizations, let's have a quick quiz in deciding would be a good plot for a given scenario:"
   ]
  },
  {
   "cell_type": "markdown",
   "metadata": {
    "heading_collapsed": true,
    "hidden": true
   },
   "source": [
    "###  Scenario 1"
   ]
  },
  {
   "cell_type": "markdown",
   "metadata": {
    "hidden": true
   },
   "source": [
    "> **SCENARIO**: We have a company's past financial reports. We want to compare how a company's revenue has done over these past few years.\n",
    "\n",
    "🤔 _What type of visualization do you choose?_\n",
    "\n",
    "<details>\n",
    "    <summary>Possible Answers</summary>\n",
    "    <ul>\n",
    "        <li>Line Plot</li>\n",
    "        <li>Bar Chart</li>\n",
    "    </ul>\n",
    "</details>"
   ]
  },
  {
   "cell_type": "markdown",
   "metadata": {
    "heading_collapsed": true,
    "hidden": true
   },
   "source": [
    "###  Scenario 2"
   ]
  },
  {
   "cell_type": "markdown",
   "metadata": {
    "hidden": true
   },
   "source": [
    "> **SCENARIO**: We're given a company's last quarterly report on sales from its  website. We want to show the relationship of the number of orders broken down by the type of device the order was placed on.\n",
    "\n",
    "🤔 _What type of visualization do you choose?_\n",
    "\n",
    "<details>\n",
    "    <summary>Possible Answers</summary>\n",
    "    <ul>\n",
    "        <li>Bar Chart</li>\n",
    "        <li>Stacked Bar Chart</li>\n",
    "    </ul>\n",
    "</details>"
   ]
  },
  {
   "cell_type": "markdown",
   "metadata": {
    "heading_collapsed": true,
    "hidden": true
   },
   "source": [
    "###  Scenario 3"
   ]
  },
  {
   "cell_type": "markdown",
   "metadata": {
    "hidden": true
   },
   "source": [
    "> **SCENARIO**: A food delivery service has a breakdown of this past week's orders. We want to show the relationship of the tips given in relation to the total bill.\n",
    "\n",
    "🤔 _What type of visualization do you choose?_\n",
    "\n",
    "<details>\n",
    "    <summary>Possible Answers</summary>\n",
    "    <ul>\n",
    "        <li>Scatter Plot</li>\n",
    "    </ul>\n",
    "</details>"
   ]
  }
 ],
 "metadata": {
  "kernelspec": {
   "display_name": "Python 3",
   "language": "python",
   "name": "python3"
  },
  "language_info": {
   "codemirror_mode": {
    "name": "ipython",
    "version": 3
   },
   "file_extension": ".py",
   "mimetype": "text/x-python",
   "name": "python",
   "nbconvert_exporter": "python",
   "pygments_lexer": "ipython3",
   "version": "3.8.5"
  },
  "toc": {
   "base_numbering": 1,
   "nav_menu": {},
   "number_sections": true,
   "sideBar": true,
   "skip_h1_title": false,
   "title_cell": "Table of Contents",
   "title_sidebar": "TOC",
   "toc_cell": true,
   "toc_position": {
    "height": "calc(100% - 180px)",
    "left": "10px",
    "top": "150px",
    "width": "292px"
   },
   "toc_section_display": true,
   "toc_window_display": true
  },
  "varInspector": {
   "cols": {
    "lenName": 16,
    "lenType": 16,
    "lenVar": 40
   },
   "kernels_config": {
    "python": {
     "delete_cmd_postfix": "",
     "delete_cmd_prefix": "del ",
     "library": "var_list.py",
     "varRefreshCmd": "print(var_dic_list())"
    },
    "r": {
     "delete_cmd_postfix": ") ",
     "delete_cmd_prefix": "rm(",
     "library": "var_list.r",
     "varRefreshCmd": "cat(var_dic_list()) "
    }
   },
   "types_to_exclude": [
    "module",
    "function",
    "builtin_function_or_method",
    "instance",
    "_Feature"
   ],
   "window_display": true
  }
 },
 "nbformat": 4,
 "nbformat_minor": 4
}
